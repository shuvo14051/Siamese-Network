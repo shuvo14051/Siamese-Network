{
 "cells": [
  {
   "cell_type": "markdown",
   "metadata": {},
   "source": [
    "# Import Necessary Libraries"
   ]
  },
  {
   "cell_type": "code",
   "execution_count": 1,
   "metadata": {
    "execution": {
     "iopub.execute_input": "2023-03-08T18:18:44.480943Z",
     "iopub.status.busy": "2023-03-08T18:18:44.480668Z",
     "iopub.status.idle": "2023-03-08T18:18:52.996267Z",
     "shell.execute_reply": "2023-03-08T18:18:52.995027Z",
     "shell.execute_reply.started": "2023-03-08T18:18:44.480915Z"
    }
   },
   "outputs": [],
   "source": [
    "import random\n",
    "import numpy as np\n",
    "import tensorflow as tf\n",
    "from tensorflow import keras\n",
    "from tensorflow.keras import layers\n",
    "import matplotlib.pyplot as plt"
   ]
  },
  {
   "cell_type": "code",
   "execution_count": 2,
   "metadata": {
    "execution": {
     "iopub.execute_input": "2023-03-08T18:18:53.005327Z",
     "iopub.status.busy": "2023-03-08T18:18:53.002488Z",
     "iopub.status.idle": "2023-03-08T18:18:53.012418Z",
     "shell.execute_reply": "2023-03-08T18:18:53.011091Z",
     "shell.execute_reply.started": "2023-03-08T18:18:53.005285Z"
    }
   },
   "outputs": [],
   "source": [
    "epochs = 20\n",
    "batch_size = 16\n",
    "margin = 1  # Margin for constrastive loss."
   ]
  },
  {
   "cell_type": "markdown",
   "metadata": {},
   "source": [
    "# Load the MNIST dataset\n"
   ]
  },
  {
   "cell_type": "code",
   "execution_count": 3,
   "metadata": {
    "execution": {
     "iopub.execute_input": "2023-03-08T18:18:53.020024Z",
     "iopub.status.busy": "2023-03-08T18:18:53.017216Z",
     "iopub.status.idle": "2023-03-08T18:18:54.029661Z",
     "shell.execute_reply": "2023-03-08T18:18:54.028293Z",
     "shell.execute_reply.started": "2023-03-08T18:18:53.019985Z"
    }
   },
   "outputs": [],
   "source": [
    "(x_train_val, y_train_val), (x_test, y_test) = keras.datasets.mnist.load_data()\n",
    "\n",
    "# Change the data type to a floating point format\n",
    "x_train_val = x_train_val.astype(\"float32\")\n",
    "x_test = x_test.astype(\"float32\")"
   ]
  },
  {
   "cell_type": "markdown",
   "metadata": {},
   "source": [
    "# Define training and validation sets"
   ]
  },
  {
   "cell_type": "code",
   "execution_count": 4,
   "metadata": {
    "execution": {
     "iopub.execute_input": "2023-03-08T18:18:54.032601Z",
     "iopub.status.busy": "2023-03-08T18:18:54.032251Z",
     "iopub.status.idle": "2023-03-08T18:18:54.044827Z",
     "shell.execute_reply": "2023-03-08T18:18:54.043495Z",
     "shell.execute_reply.started": "2023-03-08T18:18:54.032563Z"
    }
   },
   "outputs": [],
   "source": [
    "x_train, x_val = x_train_val[:30000], x_train_val[30000:]\n",
    "y_train, y_val = y_train_val[:30000], y_train_val[30000:]"
   ]
  },
  {
   "cell_type": "markdown",
   "metadata": {},
   "source": [
    "# Create pairs of images\n",
    "We will train the model to differentiate between digits of different classes. For example, digit 0 needs to be differentiated from the rest of the digits (1 through 9), digit 1 - from 0 and 2 through 9, and so on. To carry this out, we will select N random images from class A (for example, for digit 0) and pair them with N random images from another class B (for example, for digit 1). Then, we can repeat this process for all classes of digits (until digit 9). Once we have paired digit 0 with other digits, we can repeat this process for the remaining classes for the rest of the digits (from 1 until 9).\n"
   ]
  },
  {
   "cell_type": "code",
   "execution_count": 5,
   "metadata": {
    "execution": {
     "iopub.execute_input": "2023-03-08T18:19:22.777933Z",
     "iopub.status.busy": "2023-03-08T18:19:22.776605Z",
     "iopub.status.idle": "2023-03-08T18:19:22.794245Z",
     "shell.execute_reply": "2023-03-08T18:19:22.791963Z",
     "shell.execute_reply.started": "2023-03-08T18:19:22.777878Z"
    }
   },
   "outputs": [],
   "source": [
    "def make_pairs(x, y):\n",
    "\n",
    "    num_classes = 10\n",
    "    digit_indices = [np.where(y == i)[0] for i in range(num_classes)]\n",
    "\n",
    "    pairs = []\n",
    "    labels = []\n",
    "\n",
    "    for idx1 in range(len(x)):\n",
    "        # add a matching example\n",
    "        x1 = x[idx1]\n",
    "        label1 = y[idx1]\n",
    "        idx2 = random.choice(digit_indices[label1])\n",
    "        x2 = x[idx2]\n",
    "\n",
    "        pairs += [[x1, x2]]\n",
    "        labels += [0]\n",
    "\n",
    "        # add a non-matching example\n",
    "        label2 = random.randint(0, num_classes - 1)\n",
    "        while label2 == label1:\n",
    "            label2 = random.randint(0, num_classes - 1)\n",
    "\n",
    "        idx2 = random.choice(digit_indices[label2])\n",
    "        x2 = x[idx2]\n",
    "\n",
    "        pairs += [[x1, x2]]\n",
    "        labels += [1]\n",
    "\n",
    "    return np.array(pairs), np.array(labels).astype(\"float32\")\n",
    "\n",
    "# make_pairs(x_train, y_train)"
   ]
  },
  {
   "cell_type": "code",
   "execution_count": 6,
   "metadata": {
    "execution": {
     "iopub.execute_input": "2023-03-08T18:19:23.188574Z",
     "iopub.status.busy": "2023-03-08T18:19:23.187862Z",
     "iopub.status.idle": "2023-03-08T18:19:24.294686Z",
     "shell.execute_reply": "2023-03-08T18:19:24.293593Z",
     "shell.execute_reply.started": "2023-03-08T18:19:23.188535Z"
    }
   },
   "outputs": [],
   "source": [
    "# make train pairs\n",
    "pairs_train, labels_train = make_pairs(x_train, y_train)\n",
    "\n",
    "# make validation pairs\n",
    "pairs_val, labels_val = make_pairs(x_val, y_val)\n",
    "\n",
    "# make test pairs\n",
    "pairs_test, labels_test = make_pairs(x_test, y_test)"
   ]
  },
  {
   "cell_type": "code",
   "execution_count": 7,
   "metadata": {
    "execution": {
     "iopub.execute_input": "2023-03-08T18:19:25.853710Z",
     "iopub.status.busy": "2023-03-08T18:19:25.852999Z",
     "iopub.status.idle": "2023-03-08T18:19:25.864647Z",
     "shell.execute_reply": "2023-03-08T18:19:25.863456Z",
     "shell.execute_reply.started": "2023-03-08T18:19:25.853668Z"
    }
   },
   "outputs": [],
   "source": [
    "x_train_1 = pairs_train[:, 0]  # x_train_1.shape is (60000, 28, 28)\n",
    "x_train_2 = pairs_train[:, 1]\n",
    "\n",
    "x_val_1 = pairs_val[:, 0]  # x_val_1.shape = (60000, 28, 28)\n",
    "x_val_2 = pairs_val[:, 1]\n",
    "\n",
    "x_test_1 = pairs_test[:, 0]  # x_test_1.shape = (20000, 28, 28)\n",
    "x_test_2 = pairs_test[:, 1]"
   ]
  },
  {
   "cell_type": "markdown",
   "metadata": {},
   "source": [
    "# Visualize pairs and their labels\n"
   ]
  },
  {
   "cell_type": "code",
   "execution_count": 8,
   "metadata": {
    "execution": {
     "iopub.execute_input": "2023-03-08T18:19:42.957727Z",
     "iopub.status.busy": "2023-03-08T18:19:42.956992Z",
     "iopub.status.idle": "2023-03-08T18:19:42.969001Z",
     "shell.execute_reply": "2023-03-08T18:19:42.966436Z",
     "shell.execute_reply.started": "2023-03-08T18:19:42.957686Z"
    }
   },
   "outputs": [],
   "source": [
    "def visualize(pairs, labels, to_show=6, num_col=3, predictions=None, test=False):\n",
    "\n",
    "    num_row = to_show // num_col if to_show // num_col != 0 else 1\n",
    "    to_show = num_row * num_col\n",
    "\n",
    "    # Plot the images\n",
    "    fig, axes = plt.subplots(num_row, num_col, figsize=(5, 5))\n",
    "    for i in range(to_show):\n",
    "\n",
    "        # If the number of rows is 1, the axes array is one-dimensional\n",
    "        if num_row == 1:\n",
    "            ax = axes[i % num_col]\n",
    "        else:\n",
    "            ax = axes[i // num_col, i % num_col]\n",
    "\n",
    "        ax.imshow(tf.concat([pairs[i][0], pairs[i][1]], axis=1), cmap=\"gray\")\n",
    "        ax.set_axis_off()\n",
    "        if test:\n",
    "            ax.set_title(\"True: {} | Pred: {:.5f}\".format(labels[i], predictions[i][0]))\n",
    "        else:\n",
    "            ax.set_title(\"Label: {}\".format(labels[i]))\n",
    "    if test:\n",
    "        plt.tight_layout(rect=(0, 0, 1.9, 1.9), w_pad=0.0)\n",
    "    else:\n",
    "        plt.tight_layout(rect=(0, 0, 1.5, 1.5))\n",
    "    plt.show()"
   ]
  },
  {
   "cell_type": "code",
   "execution_count": 9,
   "metadata": {
    "execution": {
     "iopub.execute_input": "2023-03-08T18:19:56.270810Z",
     "iopub.status.busy": "2023-03-08T18:19:56.267779Z",
     "iopub.status.idle": "2023-03-08T18:19:59.236166Z",
     "shell.execute_reply": "2023-03-08T18:19:59.234819Z",
     "shell.execute_reply.started": "2023-03-08T18:19:56.270766Z"
    }
   },
   "outputs": [
    {
     "data": {
      "image/png": "[encoded data removed]",
      "text/plain": [
       "<Figure size 500x500 with 4 Axes>"
      ]
     },
     "metadata": {},
     "output_type": "display_data"
    }
   ],
   "source": [
    "visualize(pairs_train[:-1], labels_train[:-1], to_show=4, num_col=4)"
   ]
  },
  {
   "cell_type": "code",
   "execution_count": 10,
   "metadata": {
    "execution": {
     "iopub.execute_input": "2023-03-08T18:20:05.860430Z",
     "iopub.status.busy": "2023-03-08T18:20:05.859858Z",
     "iopub.status.idle": "2023-03-08T18:20:06.047267Z",
     "shell.execute_reply": "2023-03-08T18:20:06.045942Z",
     "shell.execute_reply.started": "2023-03-08T18:20:05.860392Z"
    }
   },
   "outputs": [
    {
     "data": {
      "image/png": "[encoded data removed]",
      "text/plain": [
       "<Figure size 500x500 with 4 Axes>"
      ]
     },
     "metadata": {},
     "output_type": "display_data"
    }
   ],
   "source": [
    "visualize(pairs_val[:-1], labels_val[:-1], to_show=4, num_col=4)"
   ]
  },
  {
   "cell_type": "code",
   "execution_count": 11,
   "metadata": {
    "execution": {
     "iopub.execute_input": "2023-03-08T18:20:11.441343Z",
     "iopub.status.busy": "2023-03-08T18:20:11.440419Z",
     "iopub.status.idle": "2023-03-08T18:20:11.825956Z",
     "shell.execute_reply": "2023-03-08T18:20:11.824929Z",
     "shell.execute_reply.started": "2023-03-08T18:20:11.441290Z"
    }
   },
   "outputs": [
    {
     "data": {
      "image/png": "[encoded data removed]",
      "text/plain": [
       "<Figure size 500x500 with 4 Axes>"
      ]
     },
     "metadata": {},
     "output_type": "display_data"
    }
   ],
   "source": [
    "visualize(pairs_test[:-1], labels_test[:-1], to_show=4, num_col=4)"
   ]
  },
  {
   "cell_type": "markdown",
   "metadata": {},
   "source": [
    "# Define the model"
   ]
  },
  {
   "cell_type": "code",
   "execution_count": 12,
   "metadata": {
    "execution": {
     "iopub.execute_input": "2023-03-08T18:20:35.621440Z",
     "iopub.status.busy": "2023-03-08T18:20:35.620703Z",
     "iopub.status.idle": "2023-03-08T18:20:35.946092Z",
     "shell.execute_reply": "2023-03-08T18:20:35.944975Z",
     "shell.execute_reply.started": "2023-03-08T18:20:35.621393Z"
    }
   },
   "outputs": [],
   "source": [
    "def euclidean_distance(vects):\n",
    "\n",
    "    x, y = vects\n",
    "    sum_square = tf.math.reduce_sum(tf.math.square(x - y), axis=1, keepdims=True)\n",
    "    return tf.math.sqrt(tf.math.maximum(sum_square, tf.keras.backend.epsilon()))\n",
    "\n",
    "\n",
    "input = layers.Input((28, 28, 1))\n",
    "x = tf.keras.layers.BatchNormalization()(input)\n",
    "x = layers.Conv2D(4, (5, 5), activation=\"tanh\")(x)\n",
    "x = layers.AveragePooling2D(pool_size=(2, 2))(x)\n",
    "x = layers.Conv2D(16, (5, 5), activation=\"tanh\")(x)\n",
    "x = layers.AveragePooling2D(pool_size=(2, 2))(x)\n",
    "x = layers.Flatten()(x)\n",
    "\n",
    "x = tf.keras.layers.BatchNormalization()(x)\n",
    "x = layers.Dense(10, activation=\"tanh\")(x)\n",
    "embedding_network = keras.Model(input, x)\n",
    "\n",
    "\n",
    "input_1 = layers.Input((28, 28, 1))\n",
    "input_2 = layers.Input((28, 28, 1))\n",
    "\n",
    "# As mentioned above, Siamese Network share weights between\n",
    "# tower networks (sister networks). To allow this, we will use\n",
    "# same embedding network for both tower networks.\n",
    "tower_1 = embedding_network(input_1)\n",
    "tower_2 = embedding_network(input_2)\n",
    "\n",
    "merge_layer = layers.Lambda(euclidean_distance)([tower_1, tower_2])\n",
    "normal_layer = tf.keras.layers.BatchNormalization()(merge_layer)\n",
    "output_layer = layers.Dense(1, activation=\"sigmoid\")(normal_layer)\n",
    "siamese = keras.Model(inputs=[input_1, input_2], outputs=output_layer)"
   ]
  },
  {
   "cell_type": "markdown",
   "metadata": {},
   "source": [
    "# Define the constrastive Loss"
   ]
  },
  {
   "cell_type": "code",
   "execution_count": 13,
   "metadata": {
    "execution": {
     "iopub.execute_input": "2023-03-08T18:21:14.203467Z",
     "iopub.status.busy": "2023-03-08T18:21:14.202748Z",
     "iopub.status.idle": "2023-03-08T18:21:14.210235Z",
     "shell.execute_reply": "2023-03-08T18:21:14.209206Z",
     "shell.execute_reply.started": "2023-03-08T18:21:14.203429Z"
    }
   },
   "outputs": [],
   "source": [
    "def loss(margin=1):\n",
    "\n",
    "    # Contrastive loss = mean( (1-true_value) * square(prediction) +\n",
    "    #                         true_value * square( max(margin-prediction, 0) ))\n",
    "    def contrastive_loss(y_true, y_pred):\n",
    "       \n",
    "        square_pred = tf.math.square(y_pred)\n",
    "        margin_square = tf.math.square(tf.math.maximum(margin - (y_pred), 0))\n",
    "        return tf.math.reduce_mean(\n",
    "            (1 - y_true) * square_pred + (y_true) * margin_square\n",
    "        )\n",
    "\n",
    "    return contrastive_loss"
   ]
  },
  {
   "cell_type": "code",
   "execution_count": 14,
   "metadata": {
    "execution": {
     "iopub.execute_input": "2023-03-08T18:21:25.502972Z",
     "iopub.status.busy": "2023-03-08T18:21:25.502388Z",
     "iopub.status.idle": "2023-03-08T18:21:25.545894Z",
     "shell.execute_reply": "2023-03-08T18:21:25.545115Z",
     "shell.execute_reply.started": "2023-03-08T18:21:25.502932Z"
    }
   },
   "outputs": [
    {
     "name": "stdout",
     "output_type": "stream",
     "text": [
      "Model: \"model_1\"\n",
      "__________________________________________________________________________________________________\n",
      " Layer (type)                   Output Shape         Param #     Connected to                     \n",
      "==================================================================================================\n",
      " input_2 (InputLayer)           [(None, 28, 28, 1)]  0           []                               \n",
      "                                                                                                  \n",
      " input_3 (InputLayer)           [(None, 28, 28, 1)]  0           []                               \n",
      "                                                                                                  \n",
      " model (Functional)             (None, 10)           5318        ['input_2[0][0]',                \n",
      "                                                                  'input_3[0][0]']                \n",
      "                                                                                                  \n",
      " lambda (Lambda)                (None, 1)            0           ['model[0][0]',                  \n",
      "                                                                  'model[1][0]']                  \n",
      "                                                                                                  \n",
      " batch_normalization_2 (BatchNo  (None, 1)           4           ['lambda[0][0]']                 \n",
      " rmalization)                                                                                     \n",
      "                                                                                                  \n",
      " dense_1 (Dense)                (None, 1)            2           ['batch_normalization_2[0][0]']  \n",
      "                                                                                                  \n",
      "==================================================================================================\n",
      "Total params: 5,324\n",
      "Trainable params: 4,808\n",
      "Non-trainable params: 516\n",
      "__________________________________________________________________________________________________\n"
     ]
    }
   ],
   "source": [
    "siamese.compile(loss=loss(margin=margin), optimizer=\"RMSprop\", metrics=[\"accuracy\"])\n",
    "siamese.summary()"
   ]
  },
  {
   "cell_type": "markdown",
   "metadata": {},
   "source": [
    "# Train the model"
   ]
  },
  {
   "cell_type": "code",
   "execution_count": null,
   "metadata": {
    "execution": {
     "iopub.execute_input": "2023-03-08T18:21:54.324586Z",
     "iopub.status.busy": "2023-03-08T18:21:54.323448Z",
     "iopub.status.idle": "2023-03-08T18:27:18.633156Z",
     "shell.execute_reply": "2023-03-08T18:27:18.632050Z",
     "shell.execute_reply.started": "2023-03-08T18:21:54.324539Z"
    }
   },
   "outputs": [
    {
     "name": "stdout",
     "output_type": "stream",
     "text": [
      "Epoch 1/20\n",
      "3750/3750 [==============================] - 34s 9ms/step - loss: 0.0865 - accuracy: 0.8855 - val_loss: 0.0340 - val_accuracy: 0.9566\n",
      "Epoch 2/20\n",
      "3750/3750 [==============================] - 36s 10ms/step - loss: 0.0505 - accuracy: 0.9339 - val_loss: 0.0277 - val_accuracy: 0.9640\n",
      "Epoch 3/20\n",
      "3746/3750 [============================>.] - ETA: 0s - loss: 0.0426 - accuracy: 0.9440"
     ]
    }
   ],
   "source": [
    "history = siamese.fit(\n",
    "    [x_train_1, x_train_2],\n",
    "    labels_train,\n",
    "    validation_data=([x_val_1, x_val_2], labels_val),\n",
    "    batch_size=batch_size,\n",
    "    epochs=epochs,\n",
    ")"
   ]
  },
  {
   "cell_type": "markdown",
   "metadata": {},
   "source": [
    "# Visualize results\n"
   ]
  },
  {
   "cell_type": "code",
   "execution_count": null,
   "metadata": {
    "execution": {
     "iopub.execute_input": "2023-03-08T18:27:18.636576Z",
     "iopub.status.busy": "2023-03-08T18:27:18.636167Z",
     "iopub.status.idle": "2023-03-08T18:27:19.049940Z",
     "shell.execute_reply": "2023-03-08T18:27:19.048997Z",
     "shell.execute_reply.started": "2023-03-08T18:27:18.636536Z"
    }
   },
   "outputs": [],
   "source": [
    "def plt_metric(history, metric, title, has_valid=True):\n",
    "    \n",
    "    plt.plot(history[metric])\n",
    "    if has_valid:\n",
    "        plt.plot(history[\"val_\" + metric])\n",
    "        plt.legend([\"train\", \"validation\"], loc=\"upper left\")\n",
    "    plt.title(title)\n",
    "    plt.ylabel(metric)\n",
    "    plt.xlabel(\"epoch\")\n",
    "    plt.show()\n",
    "\n",
    "# Plot the accuracy\n",
    "plt_metric(history=history.history, metric=\"accuracy\", title=\"Model accuracy\")\n",
    "\n",
    "# Plot the constrastive loss\n",
    "plt_metric(history=history.history, metric=\"loss\", title=\"Constrastive Loss\")"
   ]
  },
  {
   "cell_type": "markdown",
   "metadata": {},
   "source": [
    "# Evaluate the model\n"
   ]
  },
  {
   "cell_type": "code",
   "execution_count": null,
   "metadata": {
    "execution": {
     "iopub.execute_input": "2023-03-08T18:27:19.051716Z",
     "iopub.status.busy": "2023-03-08T18:27:19.051389Z",
     "iopub.status.idle": "2023-03-08T18:27:21.654965Z",
     "shell.execute_reply": "2023-03-08T18:27:21.653817Z",
     "shell.execute_reply.started": "2023-03-08T18:27:19.051680Z"
    }
   },
   "outputs": [],
   "source": [
    "results = siamese.evaluate([x_test_1, x_test_2], labels_test)\n",
    "print(\"test loss, test acc:\", results)"
   ]
  },
  {
   "cell_type": "markdown",
   "metadata": {},
   "source": [
    "# Visualize the predictions\n"
   ]
  },
  {
   "cell_type": "code",
   "execution_count": null,
   "metadata": {
    "execution": {
     "iopub.execute_input": "2023-03-08T18:27:21.658078Z",
     "iopub.status.busy": "2023-03-08T18:27:21.657666Z",
     "iopub.status.idle": "2023-03-08T18:27:24.174513Z",
     "shell.execute_reply": "2023-03-08T18:27:24.173261Z",
     "shell.execute_reply.started": "2023-03-08T18:27:21.658024Z"
    }
   },
   "outputs": [],
   "source": [
    "predictions = siamese.predict([x_test_1, x_test_2])\n",
    "visualize(pairs_test, labels_test, to_show=3, predictions=predictions, test=True)"
   ]
  },
  {
   "cell_type": "code",
   "execution_count": null,
   "metadata": {},
   "outputs": [],
   "source": []
  }
 ],
 "metadata": {
  "kernelspec": {
   "display_name": "Python 3 (ipykernel)",
   "language": "python",
   "name": "python3"
  },
  "language_info": {
   "codemirror_mode": {
    "name": "ipython",
    "version": 3
   },
   "file_extension": ".py",
   "mimetype": "text/x-python",
   "name": "python",
   "nbconvert_exporter": "python",
   "pygments_lexer": "ipython3",
   "version": "3.9.6"
  }
 },
 "nbformat": 4,
 "nbformat_minor": 4
}
